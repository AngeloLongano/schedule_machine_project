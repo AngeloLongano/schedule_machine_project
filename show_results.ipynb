{
 "cells": [
  {
   "cell_type": "code",
   "execution_count": 1,
   "metadata": {},
   "outputs": [],
   "source": [
    "import pandas as pd\n",
    "from utils.data_types import *\n",
    "from utils.data_helper import *\n",
    "\n",
    "machines: list[Machine] = get_data_from_excel(\"machines\")\n",
    "work_types: list[WorkType] = get_data_from_excel(\"work types\")\n",
    "supplier_orders: list[SupplierOrder] = get_data_from_excel(\"supplier order\")\n",
    "customer_deadlines: list[CustomerDeadline] = get_data_from_excel(\"customer order\")"
   ]
  },
  {
   "cell_type": "code",
   "execution_count": 2,
   "metadata": {},
   "outputs": [
    {
     "name": "stdout",
     "output_type": "stream",
     "text": [
      "works to do: 5\n",
      " works to do: [{'id': 'W0', 'quantity_to_work': 50, 'time_machine_needed': 40}, {'id': 'W1', 'quantity_to_work': 95, 'time_machine_needed': 40}, {'id': 'W2', 'quantity_to_work': 40, 'time_machine_needed': 10}, {'id': 'W3', 'quantity_to_work': 55, 'time_machine_needed': 30}, {'id': 'W4', 'quantity_to_work': 70, 'time_machine_needed': 40}]\n",
      "works to do: 5\n",
      " works to do: [{'id': 'W0', 'quantity_to_work': 50, 'time_machine_needed': 40}, {'id': 'W1', 'quantity_to_work': 58, 'time_machine_needed': 40}, {'id': 'W2', 'quantity_to_work': 40, 'time_machine_needed': 10}, {'id': 'W3', 'quantity_to_work': 18, 'time_machine_needed': 30}, {'id': 'W4', 'quantity_to_work': 33, 'time_machine_needed': 40}]\n",
      "works to do: 5\n",
      " works to do: [{'id': 'W0', 'quantity_to_work': 4, 'time_machine_needed': 40}, {'id': 'W1', 'quantity_to_work': 12, 'time_machine_needed': 40}, {'id': 'W2', 'quantity_to_work': 40, 'time_machine_needed': 10}, {'id': 'W3', 'quantity_to_work': 18, 'time_machine_needed': 30}, {'id': 'W4', 'quantity_to_work': 33, 'time_machine_needed': 40}]\n",
      "works to do: 4\n",
      " works to do: [{'id': 'W0', 'quantity_to_work': 4, 'time_machine_needed': 40}, {'id': 'W1', 'quantity_to_work': 12, 'time_machine_needed': 40}, {'id': 'W3', 'quantity_to_work': 18, 'time_machine_needed': 30}, {'id': 'W4', 'quantity_to_work': 33, 'time_machine_needed': 40}]\n",
      "works to do: 3\n",
      " works to do: [{'id': 'W0', 'quantity_to_work': 4, 'time_machine_needed': 40}, {'id': 'W1', 'quantity_to_work': 12, 'time_machine_needed': 40}, {'id': 'W3', 'quantity_to_work': 18, 'time_machine_needed': 30}]\n",
      "works to do: 2\n",
      " works to do: [{'id': 'W0', 'quantity_to_work': 4, 'time_machine_needed': 40}, {'id': 'W1', 'quantity_to_work': 12, 'time_machine_needed': 40}]\n",
      "works to do: 1\n",
      " works to do: [{'id': 'W0', 'quantity_to_work': 4, 'time_machine_needed': 40}]\n"
     ]
    }
   ],
   "source": [
    "from utils.algorithms import *\n",
    "\n",
    "solution = Solution(\n",
    "    machines,\n",
    "    work_types,\n",
    "    supplier_orders,\n",
    "    customer_deadlines,\n",
    ")\n",
    "\n",
    "solution.constructive_solution()"
   ]
  },
  {
   "cell_type": "code",
   "execution_count": 3,
   "metadata": {},
   "outputs": [
    {
     "name": "stdout",
     "output_type": "stream",
     "text": [
      "Macchina {'name': 'M1', 'pallets': 1}\n",
      "Job 0\n",
      "Lista lavorazioni: [('W2', 10)]\n",
      "Cicli di produzione 40 e prodotti 40 elementi (1 alla volta)\n",
      "Tempo di produzione 2400 minuti (4.0 giorni)\n",
      "\n",
      "\n",
      "Job 1\n",
      "Lista lavorazioni: [('W3', 30)]\n",
      "Cicli di produzione 18 e prodotti 18 elementi (1 alla volta)\n",
      "Tempo di produzione 1440 minuti (2.4 giorni)\n",
      "\n",
      "\n",
      "Job 2\n",
      "Lista lavorazioni: [('W0', 40)]\n",
      "Cicli di produzione 4 e prodotti 4 elementi (1 alla volta)\n",
      "Tempo di produzione 360 minuti (0.6 giorni)\n",
      "\n",
      "\n",
      "Macchina {'name': 'M2', 'pallets': 1}\n",
      "Job 0\n",
      "Lista lavorazioni: [('W4', 40)]\n",
      "Cicli di produzione 33 e prodotti 33 elementi (1 alla volta)\n",
      "Tempo di produzione 2970 minuti (4.95 giorni)\n",
      "\n",
      "\n",
      "Job 1\n",
      "Lista lavorazioni: [('W1', 40)]\n",
      "Cicli di produzione 12 e prodotti 12 elementi (1 alla volta)\n",
      "Tempo di produzione 1080 minuti (1.8 giorni)\n",
      "\n",
      "\n",
      "Macchina {'name': 'M3', 'pallets': 2}\n",
      "Job 0\n",
      "Lista lavorazioni: [('W1', 40), ('W0', 40)]\n",
      "Cicli di produzione 46 e prodotti 92 elementi (2 alla volta)\n",
      "Tempo di produzione 5980 minuti (9.966666666666667 giorni)\n",
      "\n",
      "\n",
      "Macchina {'name': 'M4', 'pallets': 3}\n",
      "Job 0\n",
      "Lista lavorazioni: [('W1', 40), ('W4', 40), ('W3', 30)]\n",
      "Cicli di produzione 37 e prodotti 111 elementi (3 alla volta)\n",
      "Tempo di produzione 5920 minuti (9.866666666666667 giorni)\n",
      "\n",
      "\n",
      "[{'id': 'W1', 'quantity_to_work': 95, 'time_machine_needed': 40}, {'id': 'W4', 'quantity_to_work': 70, 'time_machine_needed': 40}, {'id': 'W3', 'quantity_to_work': 55, 'time_machine_needed': 30}]\n"
     ]
    }
   ],
   "source": [
    "for schedule_machine in solution.schedule:\n",
    "    print(f\"Macchina {schedule_machine.machine}\")\n",
    "    for i_j, job in enumerate(schedule_machine.list_jobs):\n",
    "        print(f\"Job {i_j}\")\n",
    "        print(\n",
    "            f\"Lista lavorazioni: {[(w['id'],w['time_machine_needed']) for w in job.list_works]}\"\n",
    "        )\n",
    "        print(\n",
    "            f\"Cicli di produzione {job.worked_quantity} e prodotti {job.worked_quantity*len(job.list_works)} elementi ({len(job.list_works)} alla volta)\"\n",
    "        )\n",
    "        print(\n",
    "            f\"Tempo di produzione {job.time_needed()} minuti ({job.time_needed()/DAILY_WORKING_MINUTES} giorni)\"\n",
    "        )\n",
    "        print(\"\\n\")\n",
    "\n",
    "\n",
    "print(solution.schedule[3].list_jobs[0].list_works)"
   ]
  },
  {
   "cell_type": "code",
   "execution_count": 6,
   "metadata": {},
   "outputs": [],
   "source": [
    "schedule_machines: list[ScheduleMachine] = solution.schedule\n",
    "name_machines = [\n",
    "    f\"{s.machine['name']} {s.machine['pallets']} pallets\" for s in schedule_machines\n",
    "]\n",
    "list_data = [\n",
    "    [\n",
    "        {\n",
    "            \"job\": i_job,\n",
    "            \"work_in_parallel\": len(j.list_works),\n",
    "            \"work_type\": w[\"id\"],\n",
    "            \"time_machine_needed\": w[\"time_machine_needed\"],\n",
    "            \"quantity_to_produce\": j.worked_quantity,\n",
    "            \"total_time_machine_needed\": j.time_needed(),\n",
    "            \"days_machine_needed\": j.time_needed() / DAILY_WORKING_MINUTES,\n",
    "        }\n",
    "        for i_job, j in enumerate(s.list_jobs)\n",
    "        for w in j.list_works\n",
    "    ]\n",
    "    for s in schedule_machines\n",
    "]\n",
    "\n",
    "write_data_to_excel(list_data, name_machines, \"Data/schedule.xlsx\")"
   ]
  },
  {
   "cell_type": "code",
   "execution_count": 12,
   "metadata": {},
   "outputs": [
    {
     "name": "stdout",
     "output_type": "stream",
     "text": [
      "[{'id': 'W0', 'time_machine_needed': 40, 'worked_quantity': 50}, {'id': 'W1', 'time_machine_needed': 40, 'worked_quantity': 95}, {'id': 'W2', 'time_machine_needed': 10, 'worked_quantity': 40}, {'id': 'W3', 'time_machine_needed': 30, 'worked_quantity': 55}, {'id': 'W4', 'time_machine_needed': 40, 'worked_quantity': 70}]\n",
      "[{'id_work_type': 'W0', 'quantity': 50}, {'id_work_type': 'W1', 'quantity': 95}, {'id_work_type': 'W2', 'quantity': 40}, {'id_work_type': 'W3', 'quantity': 55}, {'id_work_type': 'W4', 'quantity': 70}]\n"
     ]
    }
   ],
   "source": [
    "inventory = solution.inventory\n",
    "print(inventory.inventory_rows)\n",
    "print(inventory.customer_deadlines)"
   ]
  },
  {
   "cell_type": "code",
   "execution_count": 8,
   "metadata": {},
   "outputs": [
    {
     "data": {
      "image/png": "[encoded data removed]",
      "text/plain": [
       "<Figure size 640x480 with 1 Axes>"
      ]
     },
     "metadata": {},
     "output_type": "display_data"
    }
   ],
   "source": [
    "from utils.plot_helper import draw_gantt_chart\n",
    "\n",
    "draw_gantt_chart(solution.schedule)"
   ]
  }
 ],
 "metadata": {
  "kernelspec": {
   "display_name": "algoritmi_di_ottimizzazione",
   "language": "python",
   "name": "python3"
  },
  "language_info": {
   "codemirror_mode": {
    "name": "ipython",
    "version": 3
   },
   "file_extension": ".py",
   "mimetype": "text/x-python",
   "name": "python",
   "nbconvert_exporter": "python",
   "pygments_lexer": "ipython3",
   "version": "3.10.13"
  }
 },
 "nbformat": 4,
 "nbformat_minor": 2
}
