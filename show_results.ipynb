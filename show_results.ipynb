{
 "cells": [
  {
   "cell_type": "code",
   "execution_count": 5,
   "metadata": {},
   "outputs": [],
   "source": [
    "import pandas as pd\n",
    "from utils.data_types import *\n",
    "from utils.data_helper import *\n",
    "from utils.constraints import *\n",
    "from utils.entities_choice import *\n",
    "\n",
    "machines: list[Machine] = get_data_from_excel(\"machines\")\n",
    "work_types: list[WorkType] = get_data_from_excel(\"work types\")\n",
    "supplier_orders: list[SupplierOrder] = get_data_from_excel(\"supplier order\")\n",
    "customer_deadlines: list[CustomerDeadline] = get_data_from_excel(\"customer order\")"
   ]
  },
  {
   "cell_type": "code",
   "execution_count": 80,
   "metadata": {},
   "outputs": [
    {
     "name": "stdout",
     "output_type": "stream",
     "text": [
      "works to do: 5\n",
      " works to do: [{'id': 'W0', 'quantity_to_work': 50, 'time_machine_needed': 40}, {'id': 'W1', 'quantity_to_work': 95, 'time_machine_needed': 40}, {'id': 'W2', 'quantity_to_work': 40, 'time_machine_needed': 10}, {'id': 'W3', 'quantity_to_work': 55, 'time_machine_needed': 30}, {'id': 'W4', 'quantity_to_work': 70, 'time_machine_needed': 40}]\n",
      "works to do: 5\n",
      " works to do: [{'id': 'W0', 'quantity_to_work': 50, 'time_machine_needed': 40}, {'id': 'W1', 'quantity_to_work': 58, 'time_machine_needed': 40}, {'id': 'W2', 'quantity_to_work': 40, 'time_machine_needed': 10}, {'id': 'W3', 'quantity_to_work': 18, 'time_machine_needed': 30}, {'id': 'W4', 'quantity_to_work': 33, 'time_machine_needed': 40}]\n",
      "works to do: 5\n",
      " works to do: [{'id': 'W0', 'quantity_to_work': 4, 'time_machine_needed': 40}, {'id': 'W1', 'quantity_to_work': 12, 'time_machine_needed': 40}, {'id': 'W2', 'quantity_to_work': 40, 'time_machine_needed': 10}, {'id': 'W3', 'quantity_to_work': 18, 'time_machine_needed': 30}, {'id': 'W4', 'quantity_to_work': 33, 'time_machine_needed': 40}]\n",
      "works to do: 4\n",
      " works to do: [{'id': 'W0', 'quantity_to_work': 4, 'time_machine_needed': 40}, {'id': 'W1', 'quantity_to_work': 12, 'time_machine_needed': 40}, {'id': 'W3', 'quantity_to_work': 18, 'time_machine_needed': 30}, {'id': 'W4', 'quantity_to_work': 33, 'time_machine_needed': 40}]\n",
      "works to do: 3\n",
      " works to do: [{'id': 'W0', 'quantity_to_work': 4, 'time_machine_needed': 40}, {'id': 'W1', 'quantity_to_work': 12, 'time_machine_needed': 40}, {'id': 'W3', 'quantity_to_work': 18, 'time_machine_needed': 30}]\n",
      "works to do: 2\n",
      " works to do: [{'id': 'W0', 'quantity_to_work': 4, 'time_machine_needed': 40}, {'id': 'W1', 'quantity_to_work': 12, 'time_machine_needed': 40}]\n",
      "works to do: 1\n",
      " works to do: [{'id': 'W0', 'quantity_to_work': 4, 'time_machine_needed': 40}]\n"
     ]
    }
   ],
   "source": [
    "solution = Solution(\n",
    "    machines,\n",
    "    work_types,\n",
    "    supplier_orders,\n",
    "    customer_deadlines,\n",
    ")\n",
    "\n",
    "solution.constructive_solution()"
   ]
  },
  {
   "cell_type": "code",
   "execution_count": 79,
   "metadata": {},
   "outputs": [
    {
     "data": {
      "image/png": "[encoded data removed]",
      "text/plain": [
       "<Figure size 640x480 with 1 Axes>"
      ]
     },
     "metadata": {},
     "output_type": "display_data"
    }
   ],
   "source": [
    "import matplotlib.pyplot as plt\n",
    "import matplotlib.colors as mcolors\n",
    "import numpy as np\n",
    "\n",
    "total_slots = sum(\n",
    "    [schedule_machine.machine[\"pallets\"] for schedule_machine in solution.schedule]\n",
    ")\n",
    "height_bar = 9\n",
    "rects_y = np.arange(10, 10 * (total_slots + 1), 10)\n",
    "\n",
    "\n",
    "# Create a new figure and axis\n",
    "fig, ax = plt.subplots()\n",
    "ax.set_title(f\"Schedule\")\n",
    "\n",
    "index_slot = 0\n",
    "height_padding_machine = 0\n",
    "for i_schedule, schedule_machine in enumerate(solution.schedule):\n",
    "    for i_pallet in range(schedule_machine.machine[\"pallets\"]):\n",
    "        for i_job, job in enumerate(schedule_machine.list_jobs):\n",
    "            start_time = (\n",
    "                0\n",
    "                if i_job == 0\n",
    "                else schedule_machine.list_jobs[i_job - 1].time_machine_needed()\n",
    "            )\n",
    "            size = job.time_machine_needed()\n",
    "            ax.broken_barh(\n",
    "                [\n",
    "                    (start_time, size),\n",
    "                ],\n",
    "                (rects_y[index_slot], height_bar),\n",
    "                facecolor=(list(mcolors.TABLEAU_COLORS.keys())[i_job]),\n",
    "            )\n",
    "        index_slot += 1\n",
    "    height_padding_machine += 10\n",
    "\n",
    "\n",
    "# Set the y-axis limits and tick labels\n",
    "ax.set_ylim(0, total_slots * 10 + 15)\n",
    "total_time = DAILY_WORKING_MINUTES * DAYS\n",
    "ax.set_xlim(0, total_time)\n",
    "\n",
    "steps_y = np.arange(15, 10 * (total_slots + 1), 10)\n",
    "labels_y = [\n",
    "    f\"{schedule_machine.machine['name']} [{i_pallet+1}]\"\n",
    "    for schedule_machine in solution.schedule\n",
    "    for i_pallet in range(schedule_machine.machine[\"pallets\"])\n",
    "]\n",
    "ax.set_yticks(steps_y)\n",
    "ax.set_yticklabels(labels_y)\n",
    "# Set x-axis label\n",
    "\n",
    "steps_x = np.arange(0, total_time + DAILY_WORKING_MINUTES, DAILY_WORKING_MINUTES)\n",
    "labels_x = [f\"day {i}\" for i in range(0, DAYS + 1)]\n",
    "ax.set_xticks(steps_x)\n",
    "ax.set_xticklabels(labels_x)\n",
    "\n",
    "\n",
    "# Make grid lines visible\n",
    "# ax.grid(True)\n",
    "\n",
    "# Display the Gantt chart\n",
    "plt.show()"
   ]
  }
 ],
 "metadata": {
  "kernelspec": {
   "display_name": "algoritmi_di_ottimizzazione",
   "language": "python",
   "name": "python3"
  },
  "language_info": {
   "codemirror_mode": {
    "name": "ipython",
    "version": 3
   },
   "file_extension": ".py",
   "mimetype": "text/x-python",
   "name": "python",
   "nbconvert_exporter": "python",
   "pygments_lexer": "ipython3",
   "version": "3.10.13"
  }
 },
 "nbformat": 4,
 "nbformat_minor": 2
}
