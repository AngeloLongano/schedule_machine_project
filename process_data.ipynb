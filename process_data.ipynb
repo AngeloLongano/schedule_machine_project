{
 "cells": [
  {
   "cell_type": "markdown",
   "metadata": {},
   "source": [
    "# Create dataset for the problem"
   ]
  },
  {
   "cell_type": "markdown",
   "metadata": {},
   "source": [
    "#### Generate data "
   ]
  },
  {
   "cell_type": "code",
   "execution_count": 1,
   "metadata": {},
   "outputs": [],
   "source": [
    "from utils.helpers import list_random_with_fixed_sum\n",
    "from utils.data_types import *\n",
    "import random\n",
    "\n",
    "DATA_PATH = \"Data/problem_data.xlsx\"\n",
    "\n",
    "random.seed(0)\n",
    "\n",
    "\n",
    "def calculate_max_possible_products():\n",
    "    max_products = 0\n",
    "    for m in machines:\n",
    "        if m[\"pallets\"] == 1:\n",
    "            max_products += int(\n",
    "                DAILY_WORKING_MINUTES / (MAX_TIME_MACHINE + TIME_OPERATOR_FOR_EACH_WORK)\n",
    "            )\n",
    "        else:\n",
    "            max_products += (\n",
    "                int(\n",
    "                    (DAILY_WORKING_MINUTES - TIME_OPERATOR_FOR_EACH_WORK)\n",
    "                    // (MAX_TIME_MACHINE * m[\"pallets\"])\n",
    "                )\n",
    "                * m[\"pallets\"]\n",
    "            )\n",
    "    max_products *= DAYS\n",
    "    return max_products\n",
    "\n",
    "\n",
    "machines: list[Machine] = [\n",
    "    {\"id\": \"M1\", \"pallets\": 1},\n",
    "    {\"id\": \"M2\", \"pallets\": 1},\n",
    "    {\"id\": \"M3\", \"pallets\": 2},\n",
    "    {\"id\": \"M4\", \"pallets\": 3},\n",
    "]\n",
    "\n",
    "products: list[Product] = [\n",
    "    {\"id\": f\"RP{i}\", \"type\": \"RAW\"} for i in range(0, NUMBER_OF_PRODUCTS)\n",
    "] + [{\"id\": f\"FP{i}\", \"type\": \"FINAL\"} for i in range(0, NUMBER_OF_PRODUCTS)]\n",
    "\n",
    "\n",
    "work_types: list[WorkType] = [\n",
    "    {\n",
    "        \"id\": f\"W{i}\",\n",
    "        \"id_raw_product\": f\"RP{i}\",\n",
    "        \"id_final_product\": f\"FP{i}\",\n",
    "        \"time_machine_needed\": random.randrange(10, MAX_TIME_MACHINE, 10),\n",
    "    }\n",
    "    for i in range(0, NUMBER_OF_PRODUCTS)\n",
    "]\n",
    "\n",
    "max_products = calculate_max_possible_products()\n",
    "list_desired_quantity = list_random_with_fixed_sum(max_products, NUMBER_OF_PRODUCTS)\n",
    "\n",
    "products_desired: list[ProductDesired] = [\n",
    "    {\n",
    "        \"id_general_product\": f\"P{i}\",\n",
    "        \"start_quantity\": 0,\n",
    "        \"total_quantity\": list_desired_quantity[i],\n",
    "    }\n",
    "    for i, w in enumerate(work_types)\n",
    "]\n",
    "\n",
    "supplier_order: list[SupplierOrder] = [\n",
    "    {\n",
    "        \"id\": f\"SO{i}\",\n",
    "        \"id_raw_product\": f\"RP{i}\",\n",
    "        \"quantity_to_add\": product_desired[\"total_quantity\"]\n",
    "        - product_desired[\"start_quantity\"],\n",
    "        \"day\": 0,\n",
    "    }\n",
    "    for i, product_desired in enumerate(products_desired)\n",
    "]\n",
    "customer_order: list[CustomerOrder] = [\n",
    "    {\n",
    "        \"id\": f\"CO{i}\",\n",
    "        \"id_final_product\": f\"FP{i}\",\n",
    "        \"quantity_to_remove\": product_desired[\"total_quantity\"],\n",
    "        \"day\": DAYS - 1,\n",
    "    }\n",
    "    for i, product_desired in enumerate(products_desired)\n",
    "]"
   ]
  },
  {
   "cell_type": "markdown",
   "metadata": {},
   "source": [
    "#### Write on excel"
   ]
  },
  {
   "cell_type": "code",
   "execution_count": 2,
   "metadata": {},
   "outputs": [],
   "source": [
    "import pandas as pd\n",
    "\n",
    "machines = pd.DataFrame(machines)\n",
    "products = pd.DataFrame(products)\n",
    "work_types = pd.DataFrame(work_types)\n",
    "supplier_order = pd.DataFrame(supplier_order)\n",
    "customer_order = pd.DataFrame(customer_order)\n",
    "products_desired = pd.DataFrame(products_desired)\n",
    "\n",
    "with pd.ExcelWriter(DATA_PATH) as writer:\n",
    "    machines.to_excel(writer, sheet_name=\"machines\", index=False)\n",
    "    products.to_excel(writer, sheet_name=\"products\", index=False)\n",
    "    work_types.to_excel(writer, sheet_name=\"work types\", index=False)\n",
    "    supplier_order.to_excel(writer, sheet_name=\"supplier order\", index=False)\n",
    "    customer_order.to_excel(writer, sheet_name=\"customer order\", index=False)\n",
    "    products_desired.to_excel(writer, sheet_name=\"products desired\", index=False)"
   ]
  }
 ],
 "metadata": {
  "kernelspec": {
   "display_name": "algoritmi_di_ottimizzazione",
   "language": "python",
   "name": "python3"
  },
  "language_info": {
   "codemirror_mode": {
    "name": "ipython",
    "version": 3
   },
   "file_extension": ".py",
   "mimetype": "text/x-python",
   "name": "python",
   "nbconvert_exporter": "python",
   "pygments_lexer": "ipython3",
   "version": "3.10.13"
  }
 },
 "nbformat": 4,
 "nbformat_minor": 2
}
